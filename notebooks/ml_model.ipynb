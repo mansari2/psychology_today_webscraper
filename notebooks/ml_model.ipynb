{
 "cells": [
  {
   "cell_type": "markdown",
   "metadata": {},
   "source": [
    "# Machine Learning Model for Therapist Ratings\n",
    "\n",
    "This notebook is used to build and evaluate a machine learning model to predict therapist ratings based on various factors such as review sentiment, location, and specialties."
   ]
  },
  {
   "cell_type": "code",
   "execution_count": null,
   "metadata": {},
   "outputs": [],
   "source": [
    "# Import necessary libraries\n",
    "import pandas as pd\n",
    "from pyspark.sql import SparkSession\n",
    "from pyspark.ml.feature import VectorAssembler, StringIndexer\n",
    "from pyspark.ml.regression import LinearRegression\n",
    "from pyspark.ml.evaluation import RegressionEvaluator\n",
    "\n",
    "# Initialize Spark session\n",
    "spark = SparkSession.builder.appName(\"TherapistRatingPrediction\").getOrCreate()\n",
    "\n",
    "# Load processed data\n",
    "data_path = \"../data/processed/therapist_data.parquet\"\n",
    "df = spark.read.parquet(data_path)\n",
    "\n",
    "# Display the schema of the data\n",
    "df.printSchema()\n",
    "\n",
    "# Data preprocessing\n",
    "indexer = StringIndexer(inputCol=\"specialty\", outputCol=\"specialtyIndex\")\n",
    "model = indexer.fit(df)\n",
    "df = model.transform(df)\n",
    "\n",
    "# Assemble features\n",
    "feature_columns = [\"location\", \"specialtyIndex\", \"review_sentiment\"]\n",
    "assembler = VectorAssembler(inputCols=feature_columns, outputCol=\"features\")\n",
    "df = assembler.transform(df)\n",
    "\n",
    "# Split the data into training and test sets\n",
    "train_data, test_data = df.randomSplit([0.8, 0.2], seed=42)\n",
    "\n",
    "# Train the model\n",
    "lr = LinearRegression(featuresCol=\"features\", labelCol=\"rating\")\n",
    "lr_model = lr.fit(train_data)\n",
    "\n",
    "# Evaluate the model\n",
    "test_results = lr_model.evaluate(test_data)\n",
    "print(f\"RMSE: {test_results.rootMeanSquaredError}\")\n",
    "print(f\"R2: {test_results.r2}\")\n",
    "\n",
    "# Save the model\n",
    "model_path = \"../models/therapist_rating_model\"\n",
    "lr_model.save(model_path)\n",
    "\n",
    "# Stop the Spark session\n",
    "spark.stop()"
   ]
  }
 ],
 "metadata": {
  "kernelspec": {
   "display_name": "Python 3",
   "language": "python",
   "name": "python3"
  },
  "language_info": {
   "codemirror_mode": {
    "name": "ipython",
    "version": 3
   },
   "file_extension": ".py",
   "mimetype": "text/x-python",
   "name": "python",
   "nbconvert_exporter": "python",
   "pygments_lexer": "ipython3",
   "version": "3.8.5"
  }
 },
 "nbformat": 4,
 "nbformat_minor": 4
}